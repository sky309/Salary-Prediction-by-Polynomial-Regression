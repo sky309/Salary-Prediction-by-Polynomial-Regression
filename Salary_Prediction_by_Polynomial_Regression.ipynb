{
  "nbformat": 4,
  "nbformat_minor": 0,
  "metadata": {
    "colab": {
      "name": "Salary Prediction by Polynomial Regression.ipynb",
      "provenance": [],
      "collapsed_sections": [],
      "mount_file_id": "1z4pV6k-15Mi4P_9RLN40UsLuSB-Vz2Ux",
      "authorship_tag": "ABX9TyOiJX4niJ54hevthCIs+C8O",
      "include_colab_link": true
    },
    "kernelspec": {
      "name": "python3",
      "display_name": "Python 3"
    },
    "language_info": {
      "name": "python"
    }
  },
  "cells": [
    {
      "cell_type": "markdown",
      "metadata": {
        "id": "view-in-github",
        "colab_type": "text"
      },
      "source": [
        "<a href=\"https://colab.research.google.com/github/sky309/Salary-Prediction-by-Polynomial-Regression/blob/main/Salary_Prediction_by_Polynomial_Regression.ipynb\" target=\"_parent\"><img src=\"https://colab.research.google.com/assets/colab-badge.svg\" alt=\"Open In Colab\"/></a>"
      ]
    },
    {
      "cell_type": "markdown",
      "metadata": {
        "id": "Ao4HgKA4VxBM"
      },
      "source": [
        "# <b>Problem Statement:</b>\n",
        "Buid a predictive model to predict the salary of given employees."
      ]
    },
    {
      "cell_type": "code",
      "metadata": {
        "id": "IvrHveq7SrGJ"
      },
      "source": [
        "# Importing the libraries:\n",
        "import numpy as np\n",
        "import pandas as pd\n",
        "import matplotlib.pyplot as plt"
      ],
      "execution_count": null,
      "outputs": []
    },
    {
      "cell_type": "code",
      "metadata": {
        "id": "6qM6ZcLJT9YM"
      },
      "source": [
        "# Loading the dataset:\n",
        "file='/content/drive/MyDrive/Skill/Data Science/Pantech/DAy13-Polynomial Regression/13_ SalaryPredictionusing_POLYNOMIALREGRESSION.zip (Unzipped Files)/13_ SalaryPredictionusing_POLYNOMIALREGRESSION/dataset.csv'"
      ],
      "execution_count": null,
      "outputs": []
    },
    {
      "cell_type": "code",
      "metadata": {
        "id": "i60LJ6ysURRJ"
      },
      "source": [
        "# Reading the dataset:\n",
        "data= pd.read_csv(file)"
      ],
      "execution_count": null,
      "outputs": []
    },
    {
      "cell_type": "code",
      "metadata": {
        "colab": {
          "base_uri": "https://localhost:8080/",
          "height": 206
        },
        "id": "quzOi1Z0UWEh",
        "outputId": "36acc8e2-bdfd-463e-8a5a-8bfd99dedb8f"
      },
      "source": [
        "# Visualizing the dataset:\n",
        "data.head()"
      ],
      "execution_count": null,
      "outputs": [
        {
          "output_type": "execute_result",
          "data": {
            "text/html": [
              "<div>\n",
              "<style scoped>\n",
              "    .dataframe tbody tr th:only-of-type {\n",
              "        vertical-align: middle;\n",
              "    }\n",
              "\n",
              "    .dataframe tbody tr th {\n",
              "        vertical-align: top;\n",
              "    }\n",
              "\n",
              "    .dataframe thead th {\n",
              "        text-align: right;\n",
              "    }\n",
              "</style>\n",
              "<table border=\"1\" class=\"dataframe\">\n",
              "  <thead>\n",
              "    <tr style=\"text-align: right;\">\n",
              "      <th></th>\n",
              "      <th>Level</th>\n",
              "      <th>Salary</th>\n",
              "    </tr>\n",
              "  </thead>\n",
              "  <tbody>\n",
              "    <tr>\n",
              "      <th>0</th>\n",
              "      <td>1</td>\n",
              "      <td>45000</td>\n",
              "    </tr>\n",
              "    <tr>\n",
              "      <th>1</th>\n",
              "      <td>2</td>\n",
              "      <td>50000</td>\n",
              "    </tr>\n",
              "    <tr>\n",
              "      <th>2</th>\n",
              "      <td>3</td>\n",
              "      <td>60000</td>\n",
              "    </tr>\n",
              "    <tr>\n",
              "      <th>3</th>\n",
              "      <td>4</td>\n",
              "      <td>80000</td>\n",
              "    </tr>\n",
              "    <tr>\n",
              "      <th>4</th>\n",
              "      <td>5</td>\n",
              "      <td>110000</td>\n",
              "    </tr>\n",
              "  </tbody>\n",
              "</table>\n",
              "</div>"
            ],
            "text/plain": [
              "   Level  Salary\n",
              "0      1   45000\n",
              "1      2   50000\n",
              "2      3   60000\n",
              "3      4   80000\n",
              "4      5  110000"
            ]
          },
          "metadata": {},
          "execution_count": 20
        }
      ]
    },
    {
      "cell_type": "code",
      "metadata": {
        "id": "nPDFwykiUXiA"
      },
      "source": [
        "# Defining the dependent and independent features:\n",
        "X= data.iloc[:, :-1]\n",
        "y= data.iloc[:,-1]"
      ],
      "execution_count": null,
      "outputs": []
    },
    {
      "cell_type": "code",
      "metadata": {
        "id": "aGS0tcg9VRi3"
      },
      "source": [
        "# Importing the Linear Regression Model:\n",
        "from sklearn.linear_model import LinearRegression\n",
        "modelLR= LinearRegression()"
      ],
      "execution_count": null,
      "outputs": []
    },
    {
      "cell_type": "code",
      "metadata": {
        "colab": {
          "base_uri": "https://localhost:8080/"
        },
        "id": "nWr_Ew-XWEIZ",
        "outputId": "e8ee12aa-3615-4800-d4bd-b8287d1b36f7"
      },
      "source": [
        "# Fitting the linear Regression Model:\n",
        "modelLR.fit(X,y)"
      ],
      "execution_count": null,
      "outputs": [
        {
          "output_type": "execute_result",
          "data": {
            "text/plain": [
              "LinearRegression(copy_X=True, fit_intercept=True, n_jobs=None, normalize=False)"
            ]
          },
          "metadata": {},
          "execution_count": 23
        }
      ]
    },
    {
      "cell_type": "code",
      "metadata": {
        "colab": {
          "base_uri": "https://localhost:8080/",
          "height": 308
        },
        "id": "-AAB0GreUw-I",
        "outputId": "6a287d90-1fa3-472a-f1a7-86fc19fb2637"
      },
      "source": [
        "# Visualizing the plot:\n",
        "import matplotlib.pyplot as plt\n",
        "plt.scatter(X, y, color='red')\n",
        "plt.plot(X, modelLR.predict(X))\n",
        "plt.xlabel('t')\n",
        "plt.ylabel('a')"
      ],
      "execution_count": null,
      "outputs": [
        {
          "output_type": "execute_result",
          "data": {
            "text/plain": [
              "Text(0, 0.5, 'a')"
            ]
          },
          "metadata": {},
          "execution_count": 25
        },
        {
          "output_type": "display_data",
          "data": {
            "image/png": "[encoded data removed]",
            "text/plain": [
              "<Figure size 432x288 with 1 Axes>"
            ]
          },
          "metadata": {
            "needs_background": "light"
          }
        }
      ]
    },
    {
      "cell_type": "markdown",
      "metadata": {
        "id": "arOBZOQYZi8P"
      },
      "source": [
        "# Fitting Polynomial Regression:"
      ]
    },
    {
      "cell_type": "code",
      "metadata": {
        "id": "6JOK0BZbWKpZ"
      },
      "source": [
        "# Polynomial conversion of X values:\n",
        "from sklearn.preprocessing import PolynomialFeatures\n",
        "modelPR= PolynomialFeatures(degree=4)\n",
        "xpoly= modelPR.fit_transform(X)"
      ],
      "execution_count": null,
      "outputs": []
    },
    {
      "cell_type": "code",
      "metadata": {
        "colab": {
          "base_uri": "https://localhost:8080/"
        },
        "id": "QNZ5lBGbWmOl",
        "outputId": "42c6f92e-ff0e-437b-bb3a-00734d8ee553"
      },
      "source": [
        "# Fitting the model on Polynomial x and y:\n",
        "modelLR.fit(xpoly, y)"
      ],
      "execution_count": null,
      "outputs": [
        {
          "output_type": "execute_result",
          "data": {
            "text/plain": [
              "LinearRegression(copy_X=True, fit_intercept=True, n_jobs=None, normalize=False)"
            ]
          },
          "metadata": {},
          "execution_count": 27
        }
      ]
    },
    {
      "cell_type": "code",
      "metadata": {
        "colab": {
          "base_uri": "https://localhost:8080/",
          "height": 294
        },
        "id": "4LZ0uqx_W6Sy",
        "outputId": "7a7afed1-a03f-4ef6-cef2-6476d4de27dd"
      },
      "source": [
        "# Plotting the curve for tested values\n",
        "plt.scatter(X,y, color=\"red\")\n",
        "plt.plot(X, modelLR.predict(modelPR.fit_transform(X)))\n",
        "plt.title(\"Polynomial Regression\")\n",
        "plt.xlabel(\"Level\")\n",
        "plt.ylabel(\"Salary\")\n",
        "plt.show()"
      ],
      "execution_count": null,
      "outputs": [
        {
          "output_type": "display_data",
          "data": {
            "image/png": "[encoded data removed]",
            "text/plain": [
              "<Figure size 432x288 with 1 Axes>"
            ]
          },
          "metadata": {
            "needs_background": "light"
          }
        }
      ]
    },
    {
      "cell_type": "code",
      "metadata": {
        "colab": {
          "base_uri": "https://localhost:8080/"
        },
        "id": "06KczjaLUrj4",
        "outputId": "2b2cf2c0-59ce-4787-81fe-5aa86423dd40"
      },
      "source": [
        "# Predicting the salary of an employee:\n",
        "X=5\n",
        "print(f\"salary of the person at level {X} is: \", modelLR.predict(modelPR.fit_transform([[X]])))"
      ],
      "execution_count": null,
      "outputs": [
        {
          "output_type": "stream",
          "name": "stdout",
          "text": [
            "salary of the person at level 5 is:  [121724.94172495]\n"
          ]
        }
      ]
    }
  ]
}